{
 "cells": [
  {
   "cell_type": "markdown",
   "metadata": {},
   "source": [
    "# Spectral Clustering for Connectivity Matrices"
   ]
  },
  {
   "cell_type": "markdown",
   "metadata": {},
   "source": [
    "### Introduction\n",
    "This code uses `sklearn` to calculate the Spectral Clustering of a similarity matrix S.\n",
    "<br>First let us import the appropriate modules"
   ]
  },
  {
   "cell_type": "code",
   "execution_count": null,
   "metadata": {},
   "outputs": [],
   "source": [
    "from scipy.io import loadmat    # needed for loading .mat matlab files\n",
    "import numpy as np              # for vector math\n",
    "import os                       # for getting paths to files in your directory\n",
    "import sklearn.cluster          # for spectral clustering (and other clustering methods)\n",
    "import matplotlib.pyplot as plt # for plotting (in general)\n",
    "from nilearn import plotting    # for plotting the brain (nilearn = neuroimaging)\n",
    "import pandas as pd             # for easier data manipulation"
   ]
  },
  {
   "cell_type": "markdown",
   "metadata": {},
   "source": [
    "## Define functions\n",
    "Then create a function to find files in the `./data/` subfolder"
   ]
  },
  {
   "cell_type": "code",
   "execution_count": 6,
   "metadata": {},
   "outputs": [],
   "source": [
    "def get_path(filename):\n",
    "    \"\"\"Find filename in ./data/ directory.\n",
    "\n",
    "    Args:\n",
    "        filename (str): file we're looking for in the ./data/ directory.\n",
    "\n",
    "    Returns:\n",
    "        str: path to file \"filename\" in ./data/ dir.\n",
    "\n",
    "    \"\"\"\n",
    "\n",
    "    here_dir = os.path.dirname(os.path.realpath('__file__'))\n",
    "    file_dir = os.path.join(here_dir, 'data', filename)\n",
    "    return(file_dir)"
   ]
  },
  {
   "cell_type": "markdown",
   "metadata": {},
   "source": [
    "One to return the connectivity matrices:"
   ]
  },
  {
   "cell_type": "code",
   "execution_count": 7,
   "metadata": {},
   "outputs": [],
   "source": [
    "def get_connectivity_matrices(filepath):\n",
    "    \"\"\"Read connectivity matrices from .mat file.\n",
    "\n",
    "    Args:\n",
    "        filepath (str): full path to .mat file containing connectivity matrices.\n",
    "\n",
    "    Returns:\n",
    "        arr: Array of connectivity matrices, one per patient.\n",
    "\n",
    "    \"\"\"\n",
    "\n",
    "    from pathlib import Path\n",
    "    my_file = Path(filepath)\n",
    "\n",
    "    if my_file.is_file():\n",
    "        healthy_14    = loadmat(my_file)['S'] #load data for all 14 patients\n",
    "        conn_matrices = np.transpose(healthy_14)\n",
    "        return(conn_matrices)\n",
    "\n",
    "    else:\n",
    "        print(my_file)\n",
    "        raise(FileNotFoundError('Is path to file correct??'))"
   ]
  },
  {
   "cell_type": "markdown",
   "metadata": {},
   "source": [
    "And finally one to plot the glass brains using `nilearn`"
   ]
  },
  {
   "cell_type": "code",
   "execution_count": 8,
   "metadata": {},
   "outputs": [],
   "source": [
    "def plot_glass_brains(color):\n",
    "    \"\"\"Plot a glass brain for a 90 regions ATLAS with nodes colored by `color`.\n",
    "\n",
    "    Args:\n",
    "        color (list): Color indices. e.g. [0,1,1,0] will color nodes [1,2] differently.\n",
    "\n",
    "    Returns:\n",
    "        matplotlib.plot: A plot object.\n",
    "\n",
    "    \"\"\"\n",
    "\n",
    "    coordinates_path = get_path('coordinates.csv')\n",
    "    df = pd.read_csv(coordinates_path)\n",
    "    color = color\n",
    "\n",
    "    coords = [(df['X'][i],df['Y'][i],df['Z'][i]) for i in range(90)]\n",
    "    connec = np.array([[0]*90]*90)\n",
    "\n",
    "    plotting.plot_connectome(connec, coords, node_color=color, display_mode='lyrz')"
   ]
  },
  {
   "cell_type": "markdown",
   "metadata": {},
   "source": [
    "# Calculate spectral clustering\n",
    "Now we are ready to start. We will find and define a connectivity matrix first:"
   ]
  },
  {
   "cell_type": "code",
   "execution_count": 35,
   "metadata": {},
   "outputs": [],
   "source": [
    "conn_matrices_dir = get_path('connectivity_matrices.mat')        # find .mat file containing connectivity matrices\n",
    "conn_matrices     = get_connectivity_matrices(conn_matrices_dir) # connectivity matrices for 14 healthy subjects"
   ]
  },
  {
   "cell_type": "markdown",
   "metadata": {},
   "source": [
    "Spectral clustering works by finding elements **near** to each other. We however want to cluster brain regions based on their connectivity, which is **largest** for highly connected regions. We therefore have to do 2 things:\n",
    "1. Invert connectivity matrix so that **large** values (highly connected regions) become near zero (close in 'similarity' space\n",
    "2. Normalize the matrix so that values are between [0,1]. We will use a Gaussian kernel for that as suggested in [here](http://scikit-learn.org/stable/modules/generated/sklearn.cluster.SpectralClustering.html)"
   ]
  },
  {
   "cell_type": "code",
   "execution_count": 39,
   "metadata": {},
   "outputs": [],
   "source": [
    "shifted_matrices    = conn_matrices + 0.0001 #we will invert the connectivity matrix (1/M) so lets get rid of zeros\n",
    "similarity_matrices = (1/ shifted_matrices) #similarity matrices are the inverted connectivity matrices"
   ]
  },
  {
   "cell_type": "code",
   "execution_count": 40,
   "metadata": {},
   "outputs": [],
   "source": [
    "gauss_parameter     = 0.005\n",
    "kernelized_matrices = np.exp(- similarity_matrices ** 2 / (2. * gauss_parameter ** 2))"
   ]
  },
  {
   "cell_type": "markdown",
   "metadata": {},
   "source": [
    "We then define the `Spectral Clustering` function that will be applied to the data and apply it"
   ]
  },
  {
   "cell_type": "code",
   "execution_count": 41,
   "metadata": {},
   "outputs": [
    {
     "data": {
      "text/plain": [
       "SpectralClustering(affinity='precomputed', assign_labels='kmeans', coef0=1,\n",
       "          degree=3, eigen_solver=None, eigen_tol=0.0, gamma=1.0,\n",
       "          kernel_params=None, n_clusters=2, n_init=10, n_jobs=None,\n",
       "          n_neighbors=10, random_state=None)"
      ]
     },
     "execution_count": 41,
     "metadata": {},
     "output_type": "execute_result"
    }
   ],
   "source": [
    "spectral   = sklearn.cluster.SpectralClustering(n_clusters=2, affinity='precomputed') #we choose to classify the data into 2 clusters\n",
    "patient_ID = 0\n",
    "spectral.fit(kernelized_matrices[patient_ID])"
   ]
  },
  {
   "cell_type": "markdown",
   "metadata": {},
   "source": [
    "Now we will use the labels, created by the `Spectral Clustering` method, to color the nodes in the glass brain differently"
   ]
  },
  {
   "cell_type": "code",
   "execution_count": 44,
   "metadata": {},
   "outputs": [],
   "source": [
    "color = spectral.labels_ #array of integer labels referrent to which class the node belongs to"
   ]
  },
  {
   "cell_type": "code",
   "execution_count": null,
   "metadata": {},
   "outputs": [],
   "source": [
    "plot_glass_brains(color)"
   ]
  }
 ],
 "metadata": {
  "kernelspec": {
   "display_name": "Py37",
   "language": "python",
   "name": "py37"
  },
  "language_info": {
   "codemirror_mode": {
    "name": "ipython",
    "version": 3
   },
   "file_extension": ".py",
   "mimetype": "text/x-python",
   "name": "python",
   "nbconvert_exporter": "python",
   "pygments_lexer": "ipython3",
   "version": "3.6.6"
  }
 },
 "nbformat": 4,
 "nbformat_minor": 2
}
